{
 "cells": [
  {
   "cell_type": "markdown",
   "metadata": {},
   "source": [
    "# Process the logged files to figure out the standard deviation of the the GPS X signal and the IMU Accelerometer X signal."
   ]
  },
  {
   "cell_type": "code",
   "execution_count": 4,
   "metadata": {},
   "outputs": [
    {
     "name": "stdout",
     "output_type": "stream",
     "text": [
      "Graph1.txt Graph2.txt\r\n"
     ]
    }
   ],
   "source": [
    "!ls ../config/log"
   ]
  },
  {
   "cell_type": "code",
   "execution_count": 21,
   "metadata": {},
   "outputs": [],
   "source": [
    "import numpy as np"
   ]
  },
  {
   "cell_type": "code",
   "execution_count": 22,
   "metadata": {},
   "outputs": [],
   "source": [
    "gps_data = \"../config/log/Graph1.txt\" #(GPS X data) and \n",
    "acc_data = \"../config/log/Graph2.txt\" #(Accelerometer X data)."
   ]
  },
  {
   "cell_type": "code",
   "execution_count": 12,
   "metadata": {},
   "outputs": [
    {
     "name": "stdout",
     "output_type": "stream",
     "text": [
      "time, Quad.GPS.X\r\n",
      "0.105000,0.929729\r\n",
      "0.205000,-0.850943\r\n",
      "0.305000,-0.294885\r\n",
      "0.404998,0.645242\r\n",
      "0.504997,-0.905385\r\n",
      "0.604996,-0.284876\r\n",
      "0.704994,0.274991\r\n",
      "0.804993,0.895015\r\n",
      "0.904992,-0.066778\r\n"
     ]
    }
   ],
   "source": [
    "!head  ../config/log/Graph1.txt"
   ]
  },
  {
   "cell_type": "code",
   "execution_count": 24,
   "metadata": {},
   "outputs": [
    {
     "name": "stdout",
     "output_type": "stream",
     "text": [
      "time, Quad.IMU.AX\r\n",
      "0.005000,0.143543\r\n",
      "0.010000,-0.840799\r\n",
      "0.015000,0.020170\r\n",
      "0.020000,-0.815555\r\n",
      "0.025000,0.888912\r\n",
      "0.030000,-0.284647\r\n",
      "0.035000,-1.129378\r\n",
      "0.040000,-0.493124\r\n",
      "0.045000,0.121738\r\n"
     ]
    }
   ],
   "source": [
    "!head  ../config/log/Graph2.txt"
   ]
  },
  {
   "cell_type": "code",
   "execution_count": 25,
   "metadata": {},
   "outputs": [
    {
     "name": "stdout",
     "output_type": "stream",
     "text": [
      "Calculated (MeasuredStdDev_GPSPosXY) is 0.7149654724350691\n"
     ]
    }
   ],
   "source": [
    "\n",
    "Quad_GPS_X = np.loadtxt(gps_data,delimiter=',',dtype='Float64',skiprows=1)[:,1]\n",
    "Quad_GPS_X_std  = np.std(Quad_GPS_X)\n",
    "print(\"Calculated (MeasuredStdDev_GPSPosXY) is\",Quad_GPS_X_std)\n"
   ]
  },
  {
   "cell_type": "code",
   "execution_count": 26,
   "metadata": {},
   "outputs": [
    {
     "name": "stdout",
     "output_type": "stream",
     "text": [
      "Calculated (MeasuredStdDev_AccelXY) is 0.5091540609250159\n"
     ]
    }
   ],
   "source": [
    "Quad_IMU_AX = np.loadtxt(acc_data,delimiter=',',dtype='Float64',skiprows=1)[:,1]\n",
    "Quad_IMU_AX_std  = np.std(Quad_IMU_AX)\n",
    "print(\"Calculated (MeasuredStdDev_AccelXY) is\",Quad_IMU_AX_std)\n",
    "\n"
   ]
  },
  {
   "cell_type": "code",
   "execution_count": 28,
   "metadata": {},
   "outputs": [
    {
     "name": "stdout",
     "output_type": "stream",
     "text": [
      "MeasuredStdDev_GPSPosXY = 0.7149654724350691\n",
      "MeasuredStdDev_AccelXY = 0.5091540609250159\n"
     ]
    }
   ],
   "source": [
    "#for easeier copy paste\n",
    "print(\"MeasuredStdDev_GPSPosXY =\",Quad_GPS_X_std)\n",
    "print(\"MeasuredStdDev_AccelXY =\",Quad_IMU_AX_std)"
   ]
  },
  {
   "cell_type": "code",
   "execution_count": null,
   "metadata": {},
   "outputs": [],
   "source": []
  }
 ],
 "metadata": {
  "kernelspec": {
   "display_name": "Python 3",
   "language": "python",
   "name": "python3"
  },
  "language_info": {
   "codemirror_mode": {
    "name": "ipython",
    "version": 3
   },
   "file_extension": ".py",
   "mimetype": "text/x-python",
   "name": "python",
   "nbconvert_exporter": "python",
   "pygments_lexer": "ipython3",
   "version": "3.6.5"
  }
 },
 "nbformat": 4,
 "nbformat_minor": 2
}
